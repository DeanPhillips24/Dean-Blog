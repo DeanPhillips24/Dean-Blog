{
 "cells": [
  {
   "cell_type": "markdown",
   "metadata": {},
   "source": [
    "---\n",
    "comments: true\n",
    "layout: post\n",
    "title: Review Ticket \n",
    "description: Stuff I learned at the beginning of the course\n",
    "type: tangibles\n",
    "courses: { csse: {week: 0}, csp: {week: 0}, csa: {week: 0} }\n",
    "---"
   ]
  },
  {
   "cell_type": "markdown",
   "metadata": {},
   "source": [
    "## Dean Blog Lab Notebook\n",
    "\n",
    "# Week 0:\n",
    "8/21-8/25 - I was able to start saving my work and make my first edits on my blog. This included changing the theme, my first change of text, adding my first link, and adding my first image. \n",
    "\n",
    "With the help of a friend in CSA, I was able to resize my image and make it wide. Yippeee!!\n",
    "\n",
    "Since he helped me, I am able to show a picture of my friend Perell.\n",
    "<img src=\"{{site.baseurl}}/images/mind.jpg\" alt=\"mind\">\n",
    "\n",
    "# Week 1:\n",
    "8/28-9/1 - I was able to put my blog onto github.io, and figured out how to edit my notebooks. \n",
    "I was able to put the Snake Game on my notebook with ease, because of instruction and because it was a quick review of what I had learned previously. \n"
   ]
  }
 ],
 "metadata": {
  "kernelspec": {
   "display_name": "Python 3",
   "language": "python",
   "name": "python3"
  },
  "language_info": {
   "name": "python",
   "version": "3.10.12"
  },
  "orig_nbformat": 4
 },
 "nbformat": 4,
 "nbformat_minor": 2
}
