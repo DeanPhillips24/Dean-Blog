{
 "cells": [
  {
   "cell_type": "code",
   "execution_count": null,
   "metadata": {},
   "outputs": [],
   "source": [
    "---\n",
    "comments: True\n",
    "layout: post\n",
    "title: Low Tier God\n",
    "description: Myself\n",
    "type: tangibles\n",
    "courses: {'csse': {'week': }, 'csp': {'week': 0}, 'csa': {'week': 0}}\n",
    "---"
   ]
  },
  {
   "cell_type": "markdown",
   "metadata": {},
   "source": [
    "<img style=\"height:300px;width:200px\" src=\"images/ltg.jpg\" alt=\"ltg\">"
   ]
  }
 ],
 "metadata": {
  "language_info": {
   "name": "python"
  },
  "orig_nbformat": 4
 },
 "nbformat": 4,
 "nbformat_minor": 2
}
