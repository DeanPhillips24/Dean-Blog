{
 "cells": [
  {
   "cell_type": "code",
   "execution_count": null,
   "metadata": {},
   "outputs": [],
   "source": [
    "---\n",
    "title: Collision Display\n",
    "layout: post\n",
    "description: Visual Display of Collisions on Maps \n",
    "type: hacks\n",
    "courses: {csse: {week: 12}}\n",
    "---"
   ]
  },
  {
   "cell_type": "markdown",
   "metadata": {},
   "source": [
    "<div>\n",
    "    <h1>Collision Display</h1>\n",
    "</div>\n",
    "\n",
    "<div>\n",
    "     <p>\n",
    "        Below are images of the collisions that I made for our game. <br><br>\n",
    "        <img src=\"{{ site.baseurl}}/images/collisions/Academy Collisions.png\"><br><br>\n",
    "        <img src=\"{{ site.baseurl}}/images/collisions/Avenida_Collisions.png\"><br><br>\n",
    "        <img src=\"{{ Site.baseurl}}/images/collisions/lab collisions.png\"><br><br>\n",
    "        <img src=\"{{ site.baseurl}}/images/collisions/Route2_87.png\">\n",
    "     </p>\n",
    "</div>\n"
   ]
  }
 ],
 "metadata": {
  "language_info": {
   "name": "python"
  },
  "orig_nbformat": 4
 },
 "nbformat": 4,
 "nbformat_minor": 2
}
