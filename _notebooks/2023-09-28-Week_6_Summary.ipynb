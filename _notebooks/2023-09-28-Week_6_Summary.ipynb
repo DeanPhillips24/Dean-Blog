{
 "cells": [
  {
   "cell_type": "code",
   "execution_count": null,
   "metadata": {},
   "outputs": [],
   "source": [
    "---\n",
    "comments: True\n",
    "layout: post\n",
    "title: Week 6 Summary\n",
    "description: Week 6's Findings\n",
    "type: tangibles\n",
    "courses: {'csse': {'week': 6}, 'csp': {'week': 0}, 'csa': {'week': 0}}\n",
    "---"
   ]
  },
  {
   "cell_type": "markdown",
   "metadata": {},
   "source": [
    "## Week 6 Summary\n",
    "This week, I worked a lot on my JS Sprite Animation and the Web Programming Basics. I learned a lot about JavaScript and HTML, and am more confident in my abilities because I have a larger background with more experiences to pull from when dealing with problems and assignments. Moving forward, I am excited to make a game with some animation, and am hoping to make a visual novel style game with my team because of how fun it would be to make the images appear for the player, along with some animations during emotional scenes like laughing, crying, or even walking. "
   ]
  }
 ],
 "metadata": {
  "language_info": {
   "name": "python"
  },
  "orig_nbformat": 4
 },
 "nbformat": 4,
 "nbformat_minor": 2
}
