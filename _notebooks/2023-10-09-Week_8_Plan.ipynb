{
 "cells": [
  {
   "cell_type": "code",
   "execution_count": null,
   "metadata": {},
   "outputs": [],
   "source": [
    "---\n",
    "comments: True\n",
    "layout: post\n",
    "title: Week 8 Plan\n",
    "description: Plan of the Week\n",
    "type: plans\n",
    "courses: {'csse': {'week': 8}, 'csp': {'week': 0}, 'csa': {'week': 0}}\n",
    "---"
   ]
  },
  {
   "cell_type": "markdown",
   "metadata": {},
   "source": [
    "## Week 8 Plan\n",
    "\n",
    "Monday: Work on animations, backdrops for game, and make textboxes for character dialogue. Other part of group working on back end things like keyboard compatibility, NPCs, collisions, interactable objects, etc.\n",
    "\n",
    "Tuesday: Have first test run available (walking around in lab), debugging\n",
    "\n",
    "Wednesday: Project work/debugging.\n",
    "\n",
    "Thursday: Finalize all preparations needed for Feature Review next day\n",
    "\n",
    "Friday: Complete Feature Review, discuss plans for next week of work"
   ]
  }
 ],
 "metadata": {
  "language_info": {
   "name": "python"
  },
  "orig_nbformat": 4
 },
 "nbformat": 4,
 "nbformat_minor": 2
}
