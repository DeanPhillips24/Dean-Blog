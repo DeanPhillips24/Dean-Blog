{
 "cells": [
  {
   "cell_type": "code",
   "execution_count": null,
   "metadata": {},
   "outputs": [],
   "source": [
    "---\n",
    "title: Title Screen Animation Test\n",
    "layout: post\n",
    "description: Title Screen Animation Test\n",
    "type: hacks\n",
    "courses: {csse: {week: 10}}\n",
    "---"
   ]
  },
  {
   "cell_type": "code",
   "execution_count": 2,
   "metadata": {},
   "outputs": [
    {
     "data": {
      "text/html": [
       "\n",
       "<html>\n",
       "<head>\n",
       "    <title>GIF and Image Switcher</title>\n",
       "</head>\n",
       "<body>\n",
       "    <h1>GIF and Image Switcher</h1>\n",
       "    \n",
       "    <button id=\"playButton\">Start Animation</button>\n",
       "    \n",
       "    <img id=\"gifPlayer\" src=\"{{ site.baseurl }}/images/Real_Pokemort.gif\" alt=\"GIF\" style=\"display: none; width: 500px; height: 500px;\">\n",
       "\n",
       "    <img id=\"image\" src=\"{{ site.baseurl }}/images/titlescreen.png\" alt=\"Image\" style=\"display: none;\">\n",
       "    \n",
       "    <script>\n",
       "        // Get references to the elements\n",
       "        const playButton = document.getElementById('playButton');\n",
       "        const gifPlayer = document.getElementById('gifPlayer');\n",
       "        const image = document.getElementById('image');\n",
       "\n",
       "        // Add an event listener to the button\n",
       "        playButton.addEventListener('click', function() {\n",
       "            // Show the GIF\n",
       "            gifPlayer.style.display = 'block';\n",
       "            \n",
       "            // Hide the button\n",
       "            playButton.style.display = 'none';\n",
       "\n",
       "            // Play the GIF (if it's not auto-playing)\n",
       "            gifPlayer.style.display = 'block';\n",
       "            gifPlayer.style.animation = 'none'; // Prevent autoplay\n",
       "            gifPlayer.src = \"{{ site.baseurl }}/images/Real_Pokemort.gif\";\n",
       "            gifPlayer.play();\n",
       "\n",
       "            // After 15 seconds, show the image and hide the GIF\n",
       "            setTimeout(function() {\n",
       "                image.style.display = 'block';\n",
       "                gifPlayer.style.display = 'none';\n",
       "            }, 15000); // 15,000 milliseconds = 15 seconds\n",
       "        });\n",
       "    </script>\n",
       "</body>\n",
       "</html>\n"
      ],
      "text/plain": [
       "<IPython.core.display.HTML object>"
      ]
     },
     "metadata": {},
     "output_type": "display_data"
    }
   ],
   "source": [
    "%%html\n",
    "\n",
    "<html>\n",
    "<head>\n",
    "    <title>GIF and Image Switcher</title>\n",
    "</head>\n",
    "<body>\n",
    "    <h1>GIF and Image Switcher</h1>\n",
    "    \n",
    "    <button id=\"playButton\">Start Animation</button>\n",
    "    \n",
    "    <img id=\"gifPlayer\" src=\"{{ site.baseurl }}/images/Real_Pokemort.gif\" alt=\"GIF\" style=\"display: none; width: 500px; height: 500px;\">\n",
    "\n",
    "    <img id=\"image\" src=\"{{ site.baseurl }}/images/titlescreen.png\" alt=\"Image\" style=\"display: none;\">\n",
    "    \n",
    "    <script>\n",
    "        // Get references to the elements\n",
    "        const playButton = document.getElementById('playButton');\n",
    "        const gifPlayer = document.getElementById('gifPlayer');\n",
    "        const image = document.getElementById('image');\n",
    "\n",
    "        // Add an event listener to the button\n",
    "        playButton.addEventListener('click', function() {\n",
    "            // Show the GIF\n",
    "            gifPlayer.style.display = 'block';\n",
    "            \n",
    "            // Hide the button\n",
    "            playButton.style.display = 'none';\n",
    "\n",
    "            // Play the GIF (if it's not auto-playing)\n",
    "            gifPlayer.style.display = 'block';\n",
    "            gifPlayer.style.animation = 'none'; // Prevent autoplay\n",
    "            gifPlayer.src = \"{{ site.baseurl }}/images/Real_Pokemort.gif\";\n",
    "            gifPlayer.play();\n",
    "\n",
    "            // After 15 seconds, show the image and hide the GIF\n",
    "            setTimeout(function() {\n",
    "                image.style.display = 'block';\n",
    "                gifPlayer.style.display = 'none';\n",
    "            }, 15000); // 15,000 milliseconds = 15 seconds\n",
    "        });\n",
    "    </script>\n",
    "</body>\n",
    "</html>\n"
   ]
  }
 ],
 "metadata": {
  "kernelspec": {
   "display_name": "Python 3",
   "language": "python",
   "name": "python3"
  },
  "language_info": {
   "codemirror_mode": {
    "name": "ipython",
    "version": 3
   },
   "file_extension": ".py",
   "mimetype": "text/x-python",
   "name": "python",
   "nbconvert_exporter": "python",
   "pygments_lexer": "ipython3",
   "version": "3.10.12"
  },
  "orig_nbformat": 4
 },
 "nbformat": 4,
 "nbformat_minor": 2
}
