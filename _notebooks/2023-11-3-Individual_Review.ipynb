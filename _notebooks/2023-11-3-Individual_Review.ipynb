{
 "cells": [
  {
   "cell_type": "code",
   "execution_count": null,
   "metadata": {},
   "outputs": [],
   "source": [
    "---\n",
    "title: Individual Review\n",
    "layout: post\n",
    "description: Trimester Summary \n",
    "type: tangibles\n",
    "courses: {csse: {week: 12}}\n",
    "---"
   ]
  },
  {
   "cell_type": "markdown",
   "metadata": {},
   "source": [
    "## Individual Code\n",
    "\n",
    "While my biggest part of the game project was my involvement with the artwork, I did also work a lot with the music, dialogue, and collisions for the game. \n",
    "\n"
   ]
  },
  {
   "cell_type": "markdown",
   "metadata": {},
   "source": [
    "## Individual Blog\n",
    "\n",
    "Over the course of the trimester, I have learned a lot about working with JavaScript and HTML. I have documented all of the things that I have done and learned in my time box through the use of hacks, weekly plans and summaries, and even placing my own test versions of our game in my own repository. \n",
    "\n",
    "Game - I worked a lot on the artwork for the game. While most of the artwork did not involve code, some of it did. I work a lot with paint.net, and "
   ]
  }
 ],
 "metadata": {
  "language_info": {
   "name": "python"
  },
  "orig_nbformat": 4
 },
 "nbformat": 4,
 "nbformat_minor": 2
}
